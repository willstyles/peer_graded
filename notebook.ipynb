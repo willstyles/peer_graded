{
  "metadata": {
    "language_info": {
      "codemirror_mode": {
        "name": "python",
        "version": 3
      },
      "file_extension": ".py",
      "mimetype": "text/x-python",
      "name": "python",
      "nbconvert_exporter": "python",
      "pygments_lexer": "ipython3",
      "version": "3.8"
    },
    "kernelspec": {
      "name": "python",
      "display_name": "Pyolite",
      "language": "python"
    }
  },
  "nbformat_minor": 4,
  "nbformat": 4,
  "cells": [
    {
      "cell_type": "markdown",
      "source": "# My Jupyter Notebook on IBM Watson Studio #",
      "metadata": {}
    },
    {
      "cell_type": "markdown",
      "source": "__William Styles__ \n\nFinancial Analyst",
      "metadata": {}
    },
    {
      "cell_type": "markdown",
      "source": "_There is a lot of data in finance and I am intrigued by the idea of utilising data science to obtain an edge in the market._",
      "metadata": {}
    },
    {
      "cell_type": "markdown",
      "source": "### The following code calculates the successor of the smallest member of the positive natural number set. ###",
      "metadata": {}
    },
    {
      "cell_type": "code",
      "source": "1+1",
      "metadata": {
        "trusted": true
      },
      "execution_count": 1,
      "outputs": [
        {
          "execution_count": 1,
          "output_type": "execute_result",
          "data": {
            "text/plain": "2"
          },
          "metadata": {}
        }
      ]
    },
    {
      "cell_type": "markdown",
      "source": "| this | is |\n| ------ | ------ |\n| a | table |\n\n<a href=\"https://dataplatform.cloud.ibm.com/gallery\">this is a link</a> \n\n- this\n- is\n- a\n- list",
      "metadata": {}
    }
  ]
}